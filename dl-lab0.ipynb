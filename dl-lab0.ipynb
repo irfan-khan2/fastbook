{
  "cells": [
    {
      "cell_type": "markdown",
      "metadata": {
        "id": "9jf5hmE5UXga"
      },
      "source": [
        "Author: Irfan Khan"
      ]
    },
    {
      "cell_type": "code",
      "execution_count": null,
      "metadata": {
        "id": "wx0tFXLfUXge"
      },
      "outputs": [],
      "source": [
        "# On colab: Install fastbook, fastai, and dependencies\n",
        "!pip install -Uqq fastbook"
      ]
    },
    {
      "cell_type": "code",
      "execution_count": null,
      "metadata": {
        "id": "xxefSMviUXgf"
      },
      "outputs": [],
      "source": [
        "# On colab: paste code to display versions here and run cell\n"
      ]
    },
    {
      "cell_type": "code",
      "execution_count": null,
      "metadata": {
        "id": "ItspjL51UXgg"
      },
      "outputs": [],
      "source": [
        "# On local machine: paste code to display versions here and run cell\n"
      ]
    },
    {
      "cell_type": "markdown",
      "metadata": {
        "id": "VTBKdON-UXgg"
      },
      "source": [
        "## Reflection\n",
        "Include:\n",
        "- Something you are excited about learning in this course.\n",
        "- Potential difficulties you anticipate."
      ]
    },
    {
      "cell_type": "markdown",
      "metadata": {
        "id": "BOzz8obeUXgh"
      },
      "source": [
        "*YOUR ANSWER HERE*"
      ]
    }
  ],
  "metadata": {
    "kernelspec": {
      "display_name": "Python 3 (ipykernel)",
      "language": "python",
      "name": "python3"
    },
    "language_info": {
      "codemirror_mode": {
        "name": "ipython",
        "version": 3
      },
      "file_extension": ".py",
      "mimetype": "text/x-python",
      "name": "python",
      "nbconvert_exporter": "python",
      "pygments_lexer": "ipython3",
      "version": "3.9.7"
    },
    "colab": {
      "name": "dl-lab0.ipynb",
      "provenance": []
    }
  },
  "nbformat": 4,
  "nbformat_minor": 0
}